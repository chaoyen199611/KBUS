{
 "cells": [
  {
   "cell_type": "code",
   "execution_count": 1,
   "metadata": {},
   "outputs": [
    {
     "name": "stdout",
     "output_type": "stream",
     "text": [
      " ! --------------------------------------------------- CP Optimizer 22.1.1.0 --\n",
      " ! Satisfiability problem - 4 variables, 1 constraint\n",
      " ! Initial process time : 0.01s (0.01s extraction + 0.00s propagation)\n",
      " !  . Log search space  : 4.8 (before), 4.8 (after)\n",
      " !  . Memory usage      : 407.9 kB (before), 407.9 kB (after)\n",
      " ! Using parallel search with 12 workers.\n",
      " ! ----------------------------------------------------------------------------\n",
      " !               Branches  Non-fixed    W       Branch decision\n",
      " *                      4  0.01s        1            -\n",
      " ! ----------------------------------------------------------------------------\n",
      " ! Search completed, 1 solution found.\n",
      " ! ----------------------------------------------------------------------------\n",
      " ! Number of branches     : 36\n",
      " ! Number of fails        : 0\n",
      " ! Total memory usage     : 4.4 MB (4.4 MB CP Optimizer + 0.0 MB Concert)\n",
      " ! Time spent in solve    : 0.01s (0.01s engine + 0.01s extraction)\n",
      " ! Search speed (br. / s) : 3600.0\n",
      " ! ----------------------------------------------------------------------------\n",
      "Interval 0: Start=0, End=10\n",
      "Interval 1: Start=10, End=20\n",
      "Interval 2: Start=20, End=30\n"
     ]
    }
   ],
   "source": [
    "from docplex.cp.model import CpoModel, INTERVAL_MIN, INTERVAL_MAX\n",
    "\n",
    "# Create a model\n",
    "model = CpoModel()\n",
    "\n",
    "# Create interval variables\n",
    "intervals = []\n",
    "for i in range(3):\n",
    "    interval = model.interval_var(size=10, name=f\"interval_{i}\")\n",
    "    intervals.append(interval)\n",
    "\n",
    "# Add no-overlap constraint\n",
    "model.add(model.no_overlap(intervals))\n",
    "\n",
    "# Solve the model\n",
    "sol = model.solve()\n",
    "\n",
    "# Output the solution\n",
    "if sol:\n",
    "    for i, interval in enumerate(intervals):\n",
    "        start = sol.get_var_solution(interval).start\n",
    "        end = sol.get_var_solution(interval).end\n",
    "        print(f\"Interval {i}: Start={start}, End={end}\")\n",
    "else:\n",
    "    print(\"No solution found\")"
   ]
  }
 ],
 "metadata": {
  "kernelspec": {
   "display_name": "cplex",
   "language": "python",
   "name": "python3"
  },
  "language_info": {
   "codemirror_mode": {
    "name": "ipython",
    "version": 3
   },
   "file_extension": ".py",
   "mimetype": "text/x-python",
   "name": "python",
   "nbconvert_exporter": "python",
   "pygments_lexer": "ipython3",
   "version": "3.9.13"
  }
 },
 "nbformat": 4,
 "nbformat_minor": 2
}
